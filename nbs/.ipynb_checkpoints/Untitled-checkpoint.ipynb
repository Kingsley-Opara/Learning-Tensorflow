{
 "cells": [
  {
   "cell_type": "code",
   "execution_count": 1,
   "id": "d3db317f-4575-43d9-a037-4189e4d28620",
   "metadata": {},
   "outputs": [],
   "source": [
    "from random import randint\n",
    "import numpy as np\n",
    "from sklearn.utils import shuffle\n",
    "from sklearn.preprocessing import MinMaxScaler"
   ]
  },
  {
   "cell_type": "code",
   "execution_count": 2,
   "id": "1a0ec3fe-d00b-49b6-a4ce-fa1664037967",
   "metadata": {},
   "outputs": [],
   "source": [
    "train_labes = []\n",
    "train_samples = []\n",
    "\n",
    "\n",
    "# . An experimental drug was tested amongst a population of 2100 individuals. Half of the population is 65 years old and above (i.e >= 65 years)\n",
    "# .  The other half comprises of individuals 13 years old and above but not up to 65 years of age (i.e >= 13 and < 65).\n",
    "# . 95% of the patients 65 or older showed side effects\n",
    "# . Around 95% of patients under 65 showed side effects\n",
    "\n",
    "\n",
    "\n",
    "\n",
    "\n"
   ]
  },
  {
   "cell_type": "code",
   "execution_count": null,
   "id": "7e6af480-30fe-45a2-944f-db553e05f061",
   "metadata": {},
   "outputs": [],
   "source": [
    "for i in range(50):\n",
    "    random_younger = randint(13, 64)\n",
    "    train_samples.append(random_younger)\n",
    "    "
   ]
  }
 ],
 "metadata": {
  "kernelspec": {
   "display_name": "Python 3 (ipykernel)",
   "language": "python",
   "name": "python3"
  },
  "language_info": {
   "codemirror_mode": {
    "name": "ipython",
    "version": 3
   },
   "file_extension": ".py",
   "mimetype": "text/x-python",
   "name": "python",
   "nbconvert_exporter": "python",
   "pygments_lexer": "ipython3",
   "version": "3.9.0"
  }
 },
 "nbformat": 4,
 "nbformat_minor": 5
}
